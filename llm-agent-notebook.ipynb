{
 "cells": [
  {
   "cell_type": "markdown",
   "metadata": {},
   "source": [
    "## Build your own digital Doraemon: The Full Python Notebook"
   ]
  },
  {
   "cell_type": "markdown",
   "metadata": {},
   "source": [
    "LLM Agents can keep a knapsack of tools in its arsenal and can decide when to use them and when not to. In this notebook, we will be building my JasontheFoodie bot as a LLM agent."
   ]
  },
  {
   "cell_type": "markdown",
   "metadata": {},
   "source": [
    "#### 1. Load LLM to use in the agent"
   ]
  },
  {
   "cell_type": "markdown",
   "metadata": {},
   "source": [
    "For easier implementation, I will be using Azure OpenAI API."
   ]
  },
  {
   "cell_type": "code",
   "execution_count": 1,
   "metadata": {},
   "outputs": [
    {
     "name": "stderr",
     "output_type": "stream",
     "text": [
      "c:\\Users\\jason\\Desktop\\Jason\\Learning\\LLM Agent Research\\.venv\\lib\\site-packages\\deeplake\\util\\check_latest_version.py:32: UserWarning: A newer version of deeplake (3.8.3) is available. It's recommended that you update to the latest version using `pip install -U deeplake`.\n",
      "  warnings.warn(\n"
     ]
    }
   ],
   "source": [
    "import os\n",
    "from langchain.chat_models import AzureChatOpenAI"
   ]
  },
  {
   "cell_type": "code",
   "execution_count": 2,
   "metadata": {},
   "outputs": [],
   "source": [
    "# define env variables for AzureOpenAI model\n",
    "os.environ[\"OPENAI_API_TYPE\"] = \"azure\"\n",
    "os.environ[\"OPENAI_API_BASE\"] = \"YOUR_ENDPOINT_HERE\"\n",
    "os.environ[\"OPENAI_API_KEY\"] = \"YOUR_API_KEY_HERE\"\n",
    "os.environ[\"OPENAI_API_VERSION\"] = \"2023-03-15-preview\""
   ]
  },
  {
   "cell_type": "code",
   "execution_count": 3,
   "metadata": {},
   "outputs": [],
   "source": [
    "# Instatiate LLM\n",
    "llm = AzureChatOpenAI(\n",
    "    deployment_name='YOUR_DEPLOYMENT_NAME_HERE',\n",
    "    temperature=0\n",
    ")"
   ]
  },
  {
   "cell_type": "markdown",
   "metadata": {},
   "source": [
    "#### 2. Define functions for LLM agent to use as tools"
   ]
  },
  {
   "cell_type": "markdown",
   "metadata": {},
   "source": [
    "The ReAct agent type uses multiple tools in its arsenal. Here are the functions we can define as tools for the agent to use."
   ]
  },
  {
   "cell_type": "markdown",
   "metadata": {},
   "source": [
    "##### 2a. Create Vector Store Retriever"
   ]
  },
  {
   "cell_type": "markdown",
   "metadata": {},
   "source": [
    "A vector store is needed to store the food database and its embeddings and to act as a retriever as well. Deeplake vector store is used in this notebook."
   ]
  },
  {
   "cell_type": "code",
   "execution_count": 4,
   "metadata": {},
   "outputs": [],
   "source": [
    "import pandas as pd\n",
    "from langchain.vectorstores import DeepLake\n",
    "from langchain.embeddings.openai import OpenAIEmbeddings\n",
    "from langchain.document_loaders.csv_loader import CSVLoader"
   ]
  },
  {
   "cell_type": "code",
   "execution_count": 5,
   "metadata": {},
   "outputs": [],
   "source": [
    "# instantiate OpenAIEmbeddings to use to create embeddings from document context\n",
    "embeddings = OpenAIEmbeddings(deployment=\"EMBEDDING_DEPLOYMENT_NAME\", chunk_size=16)"
   ]
  },
  {
   "cell_type": "code",
   "execution_count": 6,
   "metadata": {},
   "outputs": [],
   "source": [
    "# instantiate CSV loader and load food reviews with review link as source\n",
    "# try with only certain field names\n",
    "loader = CSVLoader(file_path='final_data.csv', csv_args={\n",
    "        \"delimiter\": \",\",\n",
    "}, encoding='utf-8', source_column='review_link')\n",
    "data = loader.load()"
   ]
  },
  {
   "cell_type": "code",
   "execution_count": 7,
   "metadata": {},
   "outputs": [],
   "source": [
    "# augment data's metadata with lat and long values; this is needed for one of our tools later on\n",
    "df = pd.read_csv(\"final_data.csv\", index_col=False)\n",
    "\n",
    "df_lat = df.lat.values.tolist()\n",
    "df_long = df.long.values.tolist()\n",
    "\n",
    "for lat, long, item in zip(df_lat, df_long, data):\n",
    "    item.metadata[\"lat\"] = lat\n",
    "    item.metadata[\"long\"] = long"
   ]
  },
  {
   "cell_type": "code",
   "execution_count": null,
   "metadata": {},
   "outputs": [],
   "source": [
    "# create deeplake db\n",
    "db = DeepLake(\n",
    "    dataset_path=\"./my_deeplake/\", embedding=embeddings, overwrite=True\n",
    ")\n",
    "db.add_documents(data)"
   ]
  },
  {
   "cell_type": "code",
   "execution_count": null,
   "metadata": {},
   "outputs": [],
   "source": [
    "# load from existing DB, if database already exists\n",
    "db = DeepLake(\n",
    "    dataset_path=\"./my_deeplake/\", embedding=embeddings, read_only=True\n",
    ")"
   ]
  },
  {
   "cell_type": "markdown",
   "metadata": {},
   "source": [
    "I would like to filter out the relevant documents retrieved that have a similarity score below a certain threshold. The similarity_score_threshold method seems to be bugging at the time of writing, and hence I will be writing my own custom retriever below."
   ]
  },
  {
   "cell_type": "code",
   "execution_count": 47,
   "metadata": {},
   "outputs": [],
   "source": [
    "# defining a normal retriever\n",
    "def search(query):\n",
    "    search_results = db.similarity_search_with_score(k = 5,\n",
    "                                            query = query,\n",
    "                                            distance_metric = 'cos'\n",
    "                                        )\n",
    "    \n",
    "    filtered_res = list(filter(lambda x: x[1] >= 0.8, search_results))\n",
    "    filtered_res = [t[0] for t in filtered_res]\n",
    "\n",
    "    return filtered_res"
   ]
  },
  {
   "cell_type": "markdown",
   "metadata": {},
   "source": [
    "##### 2b. Create Geolocation Retriever from FourSquare API"
   ]
  },
  {
   "cell_type": "code",
   "execution_count": 29,
   "metadata": {},
   "outputs": [],
   "source": [
    "import requests"
   ]
  },
  {
   "cell_type": "code",
   "execution_count": 30,
   "metadata": {},
   "outputs": [],
   "source": [
    "# headers for API call which includes FQ API key\n",
    "headers = {\n",
    "    \"Accept\": \"application/json\",\n",
    "    \"Authorization\": \"YOUR_API_KEY\"\n",
    "}"
   ]
  },
  {
   "cell_type": "code",
   "execution_count": 31,
   "metadata": {},
   "outputs": [],
   "source": [
    "# function to retrieve coordinates based on most relevant search on foursquares platform\n",
    "def get_coordinates(address):\n",
    "    url = f'https://api.foursquare.com/v3/places/search?query={address.lower().strip().replace(\" \", \"%20\")}&near=singapore'\n",
    "\n",
    "    req = requests.request(\"GET\", url, headers=headers)\n",
    "    results_dict = eval(req.text)\n",
    "\n",
    "    result_name = results_dict['results'][0]['name']\n",
    "    result_geo = results_dict['results'][0]['geocodes']['main']\n",
    "    \n",
    "    return (result_geo['latitude'], result_geo['longitude']), result_name"
   ]
  },
  {
   "cell_type": "markdown",
   "metadata": {},
   "source": [
    "##### 2c. Create a retriever with geolocation filter"
   ]
  },
  {
   "cell_type": "markdown",
   "metadata": {},
   "source": [
    "To search for relevant listings near a certain location, we can create a retriever with a custom filter to remove listings that are too far away from the search location. This is useful when you want to do a text search near a certain location."
   ]
  },
  {
   "cell_type": "code",
   "execution_count": 32,
   "metadata": {},
   "outputs": [],
   "source": [
    "from haversine import haversine as hs\n",
    "import deeplake"
   ]
  },
  {
   "cell_type": "code",
   "execution_count": 33,
   "metadata": {},
   "outputs": [],
   "source": [
    "# create a filter function for deeplake to use\n",
    "# deeplake.compute decorator is needed for filter function with multiple arguments\n",
    "@deeplake.compute\n",
    "def filter_fn(x, coor):\n",
    "    venue_lat = float(x['metadata'].data()['value']['lat'])\n",
    "    venue_long = float(x['metadata'].data()['value']['long'])\n",
    "\n",
    "    dist = hs(coor, (venue_lat, venue_long))\n",
    "    return dist <= 0.8 # listings that are >800m away from target location is filtered out"
   ]
  },
  {
   "cell_type": "code",
   "execution_count": 34,
   "metadata": {},
   "outputs": [],
   "source": [
    "# create a function to do similarity search with filtering using deeplake.search\n",
    "def search_with_filter(prompt_coor_string: str) -> list:\n",
    "\n",
    "    # seperate search query and coordinates string input and create coordinate float tuple\n",
    "    params_ls = prompt_coor_string.split(\" | \")\n",
    "    prompt = params_ls[0].replace('\"', '')\n",
    "    coor_ls = params_ls[1].split(\", \")\n",
    "    coor = (float(coor_ls[0]), float(coor_ls[1]))\n",
    "    \n",
    "    search_results = db.similarity_search_with_score(k = 5,\n",
    "                                                query = prompt,\n",
    "                                                filter = filter_fn(coor),\n",
    "                                                distance_metric = 'cos'\n",
    "                                            )\n",
    "    \n",
    "    # only keep reviews that have a similarity score of 0.8 and above\n",
    "    filtered_res = list(filter(lambda x: x[1] >= 0.8, search_results))\n",
    "    filtered_res = [t[0] for t in filtered_res]\n",
    "    \n",
    "    return filtered_res"
   ]
  },
  {
   "cell_type": "code",
   "execution_count": 35,
   "metadata": {},
   "outputs": [
    {
     "name": "stderr",
     "output_type": "stream",
     "text": [
      "100%|██████████| 665/665 [00:00<00:00, 2180.14it/s]\n"
     ]
    },
    {
     "data": {
      "text/plain": [
       "[Document(page_content=\"place_title: Kei Hachi\\nplace_url: https://www.burpple.com/kei-hachi?bp_ref=%2Ff%2FWr8X_PCG\\nfood_desc_title: Best Meal I've Had So Far\\nfood_desc_body: Just some random photos of dishes served during their Kei Hachi Lunch Omakase ($128) because its too hard to choose specific favourites from their beautiful course meal. All of their food in the course are right on point and so darn delicious. Each food item is presented like a form of art and paired with the beautiful ambience, this is one hell of a treat. You get a huge variety of different food preparation styles and definitely a filling meal by the end of the course. Loved the hospitality of the chefs and the servers. Highly recommended if you love Japanese food and would like a good treat! Indeed the best meal I have ever had so far 😍😍\\nreview_link: https://www.burpple.com/f/R6qr9qKk\\npos_prob: 0.9908563\\nnum_stars: 5\\nvenue_price: ~$130/pax\\nvenue_tag: Date Night\\nFine Dining\\nJapanese\\nvenue_loc: https://www.google.com/maps/search/?api=1&query=1.279512,103.8415799\\nlat: 1.279512\\nlong: 103.8415799\\nnearest_stations: Maxwell, Outram Park, Chinatown, Tanjong Pagar\", metadata={'source': 'https://www.burpple.com/f/R6qr9qKk', 'row': 401, 'lat': 1.279512, 'long': 103.8415799}),\n",
       " Document(page_content=\"place_title: KYUU By Shunsui\\nplace_url: https://www.burpple.com/kyuu-by-shunsui?bp_ref=%2Ff%2F9TUCRyhw\\nfood_desc_title: Do come here if you love your ikura!\\nfood_desc_body: Have heard about their unique omakase where you get enormous quantities of ikura and we were pretty impressed!\\nThe standard omakase ($128) comprises of 9 courses and there is indeed a huge variety. From sashimi to tempera to grilled dishes, they have them all. These are just some of the dishes we had during the course and I must say I was very surprised by the beauty of the plating of their dishes!\\nAs for the food quality, all dishes were of decent quality definitely. The sashimi pieces were decently fresh and the Wagyu Beef was pretty tender but not melt in the mouth though. Though I must admit I was not expecting much when I was served corn, but that is probably the sweetest, juiciest and most delicious corn I've had.\\nIf you love your ikura, this is definitely a place to check out. To make it less painful on your wallet, you can get some discounts via @chopesg vouchers! Definitely a place to bring your loved ones for a celebration!\\nreview_link: https://www.burpple.com/f/bAd77B8k\\npos_prob: 0.8500501\\nnum_stars: 4\\nvenue_price: ~$130/pax\\nvenue_tag: Late Night\\nJapanese\\nDinner With Drinks\\nvenue_loc: https://www.google.com/maps/search/?api=1&query=1.2799799,103.841516\\nlat: 1.2799799\\nlong: 103.841516\\nnearest_stations: Maxwell, Outram Park, Chinatown, Tanjong Pagar\", metadata={'source': 'https://www.burpple.com/f/bAd77B8k', 'row': 207, 'lat': 1.2799799, 'long': 103.841516}),\n",
       " Document(page_content=\"place_title: Teppei Japanese Restaurant (Orchid Hotel)\\nplace_url: https://www.burpple.com/teppei-japanese-restaurant?bp_ref=%2Ff%2FSjq7Uauy\\nfood_desc_title: Very Good Omakase, Worth The Price\\nfood_desc_body: One will find a gastronomical experience here definitely, as you will experience so many different flavour profiles from their dinner omakase ($100). We realised that we really cannot pick a favourite among the dishes served as most were so darn good. All seafood ingredients served are really fresh, and you really don't need the soya sauce because they are all so flavourful! There is a total of about 15-17 courses, and although most were small bites, they were more than enough to make us full. In fact many in the restaurant were saying that they were already filled towards the end of the course! Really felt like it's worth the price 😊\\nreview_link: https://www.burpple.com/f/PWJbmM5Z\\npos_prob: 0.95687157\\nnum_stars: 5\\nvenue_price: ~$100/pax\\nvenue_tag: Sushi\\nChirashi\\nSeafood\\nDate Night\\nJapanese\\nvenue_loc: https://www.google.com/maps/search/?api=1&query=1.276993,103.843891\\nlat: 1.276993\\nlong: 103.843891\\nnearest_stations: Tanjong Pagar, Maxwell, Shenton Way, Outram Park, Chinatown\", metadata={'source': 'https://www.burpple.com/f/PWJbmM5Z', 'row': 413, 'lat': 1.276993, 'long': 103.843891})]"
      ]
     },
     "execution_count": 35,
     "metadata": {},
     "output_type": "execute_result"
    }
   ],
   "source": [
    "# an example on how the function will be used\n",
    "search_with_filter('\"omakase courses\" | 1.276525, 103.845725')"
   ]
  },
  {
   "cell_type": "markdown",
   "metadata": {},
   "source": [
    "#### 3. Create the agent"
   ]
  },
  {
   "cell_type": "markdown",
   "metadata": {},
   "source": [
    "We will initialise the LLM agent that contains the 3 functions that we have created."
   ]
  },
  {
   "cell_type": "code",
   "execution_count": 36,
   "metadata": {},
   "outputs": [],
   "source": [
    "from langchain.agents import initialize_agent, Tool\n",
    "from langchain.agents import AgentType"
   ]
  },
  {
   "cell_type": "code",
   "execution_count": 48,
   "metadata": {},
   "outputs": [],
   "source": [
    "# initialise the 3 tools to be added to the agent.\n",
    "# Note: that the name and description of the tool are very important for a reAct agent type, as it relies on them heavily to decide on when to use the tools\n",
    "tools = [\n",
    "    Tool(\n",
    "        name=\"Database Search\",\n",
    "        func=search,\n",
    "        description=\"Useful for querying food review data. Input should be the user text query to find relevant food review articles.\"\n",
    "    ),\n",
    "    Tool(\n",
    "        name=\"Database Search with Distance Filter\",\n",
    "        func=search_with_filter,\n",
    "        description=\"Useful for searching food places near specific locations. This function is to be used after Geolocation Search. The input string should be a text search query and a set of latitude and longitude coordinates seperated by |.\"  \n",
    "    ),\n",
    "    Tool(\n",
    "        name=\"Geolocation Search\",\n",
    "        func=get_coordinates,\n",
    "        description=\"Useful to retrieve latitude and longitude coordinates and name of place from a defined location. This is used before Database Search with Distance Filter. Input should be the place location given by the user. Output should be a tuple containing latitude and longitude coordinates and name of place.\"\n",
    "    )\n",
    "]"
   ]
  },
  {
   "cell_type": "code",
   "execution_count": 55,
   "metadata": {},
   "outputs": [],
   "source": [
    "# Define prefix of LLM agent\n",
    "# Note: this is where you can prompt engineer the template for the agent, so that the agent understands clearly on what tasks it aims to do and how it should format its answers.\n",
    "PREFIX = \"\"\"\n",
    "Answer the following questions as best you can. You have access to the following tools below that can help to find food reviews. Only answer questions that are related to the use of the tools given.\n",
    "If the question is unrelated, reject the question. If answer is not found, just say that you do not have any relevant results. Return the final answer if you think you are ready. In your final answer, you MUST list the reviews in the following format:\n",
    "\n",
    "Here are my recommendations:\n",
    "🏠 [Name of place]\n",
    "<i>[venue tags]</i>\n",
    "✨ Avg Rating: [Rating of venue]\n",
    "💸 Price: [Estimated price of dining at venue] (this is optional. If not found or not clear, use a dash instead.)\n",
    "📍 <a href=[Location of venue] ></a>\n",
    "📝 Reviews:\n",
    "[list of review_link, seperated by linespace] (Use this format: 1. <a href=[review_link] >[food_desc_title text]</a>)\n",
    "\n",
    "If you cannot find any reviews to respond to the user, just say that you don't know.\n",
    "\"\"\""
   ]
  },
  {
   "cell_type": "code",
   "execution_count": 56,
   "metadata": {},
   "outputs": [],
   "source": [
    "# Construct the agent\n",
    "# Note: sometimes the agent will hallucinate and not format its answer properly. Setting handle_parsing_error to True will allow the agent to check its own formatting.\n",
    "agent = initialize_agent(\n",
    "    tools,\n",
    "    llm,\n",
    "    agent=AgentType.ZERO_SHOT_REACT_DESCRIPTION,\n",
    "    verbose=True,\n",
    "    handle_parsing_errors=True,\n",
    "    agent_kwargs={\n",
    "        'prefix': PREFIX\n",
    "    }\n",
    ")"
   ]
  },
  {
   "cell_type": "code",
   "execution_count": 57,
   "metadata": {},
   "outputs": [
    {
     "name": "stdout",
     "output_type": "stream",
     "text": [
      "\n",
      "\n",
      "\u001b[1m> Entering new AgentExecutor chain...\u001b[0m\n",
      "\u001b[32;1m\u001b[1;3mI should use the Geolocation Search tool to find the latitude and longitude coordinates of Tanjong Pagar MRT. Then I can use the Database Search with Distance Filter tool to search for restaurants with omakase courses near that location.\n",
      "Action: Geolocation Search\n",
      "Action Input: Tanjong Pagar MRT\u001b[0m\n",
      "Observation: \u001b[38;5;200m\u001b[1;3m((1.276525, 103.845725), 'Tanjong Pagar Mrt Station')\u001b[0m\n",
      "Thought:\u001b[32;1m\u001b[1;3mNow that I have the latitude and longitude coordinates of Tanjong Pagar MRT, I can use the Database Search with Distance Filter tool to search for restaurants with omakase courses near that location.\n",
      "Action: Database Search with Distance Filter\n",
      "Action Input: \"omakase courses\" | 1.276525, 103.845725\u001b[0m"
     ]
    },
    {
     "name": "stderr",
     "output_type": "stream",
     "text": [
      "100%|██████████| 665/665 [00:00<00:00, 2916.32it/s]\n"
     ]
    },
    {
     "name": "stdout",
     "output_type": "stream",
     "text": [
      "\n",
      "Observation: \u001b[33;1m\u001b[1;3m[Document(page_content=\"place_title: Kei Hachi\\nplace_url: https://www.burpple.com/kei-hachi?bp_ref=%2Ff%2FWr8X_PCG\\nfood_desc_title: Best Meal I've Had So Far\\nfood_desc_body: Just some random photos of dishes served during their Kei Hachi Lunch Omakase ($128) because its too hard to choose specific favourites from their beautiful course meal. All of their food in the course are right on point and so darn delicious. Each food item is presented like a form of art and paired with the beautiful ambience, this is one hell of a treat. You get a huge variety of different food preparation styles and definitely a filling meal by the end of the course. Loved the hospitality of the chefs and the servers. Highly recommended if you love Japanese food and would like a good treat! Indeed the best meal I have ever had so far 😍😍\\nreview_link: https://www.burpple.com/f/R6qr9qKk\\npos_prob: 0.9908563\\nnum_stars: 5\\nvenue_price: ~$130/pax\\nvenue_tag: Date Night\\nFine Dining\\nJapanese\\nvenue_loc: https://www.google.com/maps/search/?api=1&query=1.279512,103.8415799\\nlat: 1.279512\\nlong: 103.8415799\\nnearest_stations: Maxwell, Outram Park, Chinatown, Tanjong Pagar\", metadata={'source': 'https://www.burpple.com/f/R6qr9qKk', 'row': 401, 'lat': 1.279512, 'long': 103.8415799}), Document(page_content=\"place_title: KYUU By Shunsui\\nplace_url: https://www.burpple.com/kyuu-by-shunsui?bp_ref=%2Ff%2F9TUCRyhw\\nfood_desc_title: Do come here if you love your ikura!\\nfood_desc_body: Have heard about their unique omakase where you get enormous quantities of ikura and we were pretty impressed!\\nThe standard omakase ($128) comprises of 9 courses and there is indeed a huge variety. From sashimi to tempera to grilled dishes, they have them all. These are just some of the dishes we had during the course and I must say I was very surprised by the beauty of the plating of their dishes!\\nAs for the food quality, all dishes were of decent quality definitely. The sashimi pieces were decently fresh and the Wagyu Beef was pretty tender but not melt in the mouth though. Though I must admit I was not expecting much when I was served corn, but that is probably the sweetest, juiciest and most delicious corn I've had.\\nIf you love your ikura, this is definitely a place to check out. To make it less painful on your wallet, you can get some discounts via @chopesg vouchers! Definitely a place to bring your loved ones for a celebration!\\nreview_link: https://www.burpple.com/f/bAd77B8k\\npos_prob: 0.8500501\\nnum_stars: 4\\nvenue_price: ~$130/pax\\nvenue_tag: Late Night\\nJapanese\\nDinner With Drinks\\nvenue_loc: https://www.google.com/maps/search/?api=1&query=1.2799799,103.841516\\nlat: 1.2799799\\nlong: 103.841516\\nnearest_stations: Maxwell, Outram Park, Chinatown, Tanjong Pagar\", metadata={'source': 'https://www.burpple.com/f/bAd77B8k', 'row': 207, 'lat': 1.2799799, 'long': 103.841516}), Document(page_content=\"place_title: Teppei Japanese Restaurant (Orchid Hotel)\\nplace_url: https://www.burpple.com/teppei-japanese-restaurant?bp_ref=%2Ff%2FSjq7Uauy\\nfood_desc_title: Very Good Omakase, Worth The Price\\nfood_desc_body: One will find a gastronomical experience here definitely, as you will experience so many different flavour profiles from their dinner omakase ($100). We realised that we really cannot pick a favourite among the dishes served as most were so darn good. All seafood ingredients served are really fresh, and you really don't need the soya sauce because they are all so flavourful! There is a total of about 15-17 courses, and although most were small bites, they were more than enough to make us full. In fact many in the restaurant were saying that they were already filled towards the end of the course! Really felt like it's worth the price 😊\\nreview_link: https://www.burpple.com/f/PWJbmM5Z\\npos_prob: 0.95687157\\nnum_stars: 5\\nvenue_price: ~$100/pax\\nvenue_tag: Sushi\\nChirashi\\nSeafood\\nDate Night\\nJapanese\\nvenue_loc: https://www.google.com/maps/search/?api=1&query=1.276993,103.843891\\nlat: 1.276993\\nlong: 103.843891\\nnearest_stations: Tanjong Pagar, Maxwell, Shenton Way, Outram Park, Chinatown\", metadata={'source': 'https://www.burpple.com/f/PWJbmM5Z', 'row': 413, 'lat': 1.276993, 'long': 103.843891})]\u001b[0m\n",
      "Thought:\u001b[32;1m\u001b[1;3mI have found some restaurants with omakase courses near Tanjong Pagar MRT.\n",
      "Final Answer:\n",
      "🏠 Kei Hachi\n",
      "<i>Date Night, Fine Dining, Japanese</i>\n",
      "✨ Avg Rating: 5\n",
      "💸 Price: ~$130/pax\n",
      "📍 <a href=https://www.google.com/maps/search/?api=1&query=1.279512,103.8415799 ></a>\n",
      "📝 Reviews:\n",
      "1. <a href=https://www.burpple.com/f/R6qr9qKk >Best Meal I've Had So Far</a>\n",
      "\n",
      "🏠 KYUU By Shunsui\n",
      "<i>Late Night, Japanese, Dinner With Drinks</i>\n",
      "✨ Avg Rating: 4\n",
      "💸 Price: ~$130/pax\n",
      "📍 <a href=https://www.google.com/maps/search/?api=1&query=1.2799799,103.841516 ></a>\n",
      "📝 Reviews:\n",
      "1. <a href=https://www.burpple.com/f/bAd77B8k >Do come here if you love your ikura!</a>\n",
      "\n",
      "🏠 Teppei Japanese Restaurant (Orchid Hotel)\n",
      "<i>Sushi, Chirashi, Seafood, Date Night, Japanese</i>\n",
      "✨ Avg Rating: 5\n",
      "💸 Price: ~$100/pax\n",
      "📍 <a href=https://www.google.com/maps/search/?api=1&query=1.276993,103.843891 ></a>\n",
      "📝 Reviews:\n",
      "1. <a href=https://www.burpple.com/f/PWJbmM5Z >Very Good Omakase, Worth The Price</a>\u001b[0m\n",
      "\n",
      "\u001b[1m> Finished chain.\u001b[0m\n"
     ]
    },
    {
     "data": {
      "text/plain": [
       "\"🏠 Kei Hachi\\n<i>Date Night, Fine Dining, Japanese</i>\\n✨ Avg Rating: 5\\n💸 Price: ~$130/pax\\n📍 <a href=https://www.google.com/maps/search/?api=1&query=1.279512,103.8415799 ></a>\\n📝 Reviews:\\n1. <a href=https://www.burpple.com/f/R6qr9qKk >Best Meal I've Had So Far</a>\\n\\n🏠 KYUU By Shunsui\\n<i>Late Night, Japanese, Dinner With Drinks</i>\\n✨ Avg Rating: 4\\n💸 Price: ~$130/pax\\n📍 <a href=https://www.google.com/maps/search/?api=1&query=1.2799799,103.841516 ></a>\\n📝 Reviews:\\n1. <a href=https://www.burpple.com/f/bAd77B8k >Do come here if you love your ikura!</a>\\n\\n🏠 Teppei Japanese Restaurant (Orchid Hotel)\\n<i>Sushi, Chirashi, Seafood, Date Night, Japanese</i>\\n✨ Avg Rating: 5\\n💸 Price: ~$100/pax\\n📍 <a href=https://www.google.com/maps/search/?api=1&query=1.276993,103.843891 ></a>\\n📝 Reviews:\\n1. <a href=https://www.burpple.com/f/PWJbmM5Z >Very Good Omakase, Worth The Price</a>\""
      ]
     },
     "execution_count": 57,
     "metadata": {},
     "output_type": "execute_result"
    }
   ],
   "source": [
    "# run an example\n",
    "agent.run(\"Do you know any restaurants that have omakase courses near Tanjong Pagar MRT?\")"
   ]
  }
 ],
 "metadata": {
  "kernelspec": {
   "display_name": ".venv",
   "language": "python",
   "name": "python3"
  },
  "language_info": {
   "codemirror_mode": {
    "name": "ipython",
    "version": 3
   },
   "file_extension": ".py",
   "mimetype": "text/x-python",
   "name": "python",
   "nbconvert_exporter": "python",
   "pygments_lexer": "ipython3",
   "version": "3.8.10"
  },
  "orig_nbformat": 4
 },
 "nbformat": 4,
 "nbformat_minor": 2
}
